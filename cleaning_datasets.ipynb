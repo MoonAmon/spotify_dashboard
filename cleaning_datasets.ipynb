{
 "cells": [
  {
   "cell_type": "code",
   "outputs": [],
   "source": [
    "import pandas as pd\n",
    "import glob\n",
    "from datetime import timedelta"
   ],
   "metadata": {
    "collapsed": false,
    "ExecuteTime": {
     "end_time": "2024-01-03T23:04:16.010625700Z",
     "start_time": "2024-01-03T23:04:15.947743700Z"
    }
   },
   "id": "9c2fe43c620dec47",
   "execution_count": 29
  },
  {
   "cell_type": "markdown",
   "source": [
    "# Cleaning the dataset"
   ],
   "metadata": {
    "collapsed": false
   },
   "id": "ac7ba183797c4752"
  },
  {
   "cell_type": "markdown",
   "source": [
    "# Introdução\n",
    "\n",
    "Este notebook é dedicado à limpeza do meu dataset de streaming de musica do Spotify, com o objetivo de uso em um dashboard.\n",
    "\n",
    "Irei criar um banco de dados SQL, de acordo com o diagrama que criei.\n",
    "\n",
    "## Diagrama\n",
    "\n",
    "![img](imgs/database_diagram.png)"
   ],
   "metadata": {
    "collapsed": false
   },
   "id": "a8ac20cb075a26d8"
  },
  {
   "cell_type": "code",
   "outputs": [
    {
     "name": "stdout",
     "output_type": "stream",
     "text": [
      "<class 'pandas.core.frame.DataFrame'>\n",
      "RangeIndex: 10000 entries, 0 to 9999\n",
      "Data columns (total 4 columns):\n",
      " #   Column      Non-Null Count  Dtype \n",
      "---  ------      --------------  ----- \n",
      " 0   endTime     10000 non-null  object\n",
      " 1   artistName  10000 non-null  object\n",
      " 2   trackName   10000 non-null  object\n",
      " 3   msPlayed    10000 non-null  int64 \n",
      "dtypes: int64(1), object(3)\n",
      "memory usage: 312.6+ KB\n"
     ]
    }
   ],
   "source": [
    "# Abrir parte do dataset para modelo\n",
    "dataset_full = pd.read_json('datasets/streaming_history/Streaming_History_Audio_2018-2019_1.json')\n",
    "dataset_partial = pd.read_json('datasets/StreamingHistory0.json')"
   ],
   "metadata": {
    "collapsed": false,
    "ExecuteTime": {
     "end_time": "2024-01-03T22:04:21.623494800Z",
     "start_time": "2024-01-03T22:04:21.284715100Z"
    }
   },
   "id": "9d006558505404aa",
   "execution_count": 3
  },
  {
   "cell_type": "code",
   "outputs": [
    {
     "name": "stdout",
     "output_type": "stream",
     "text": [
      "<class 'pandas.core.frame.DataFrame'>\n",
      "RangeIndex: 15769 entries, 0 to 15768\n",
      "Data columns (total 21 columns):\n",
      " #   Column                             Non-Null Count  Dtype  \n",
      "---  ------                             --------------  -----  \n",
      " 0   ts                                 15769 non-null  object \n",
      " 1   username                           15769 non-null  object \n",
      " 2   platform                           15769 non-null  object \n",
      " 3   ms_played                          15769 non-null  int64  \n",
      " 4   conn_country                       15769 non-null  object \n",
      " 5   ip_addr_decrypted                  15769 non-null  object \n",
      " 6   user_agent_decrypted               15769 non-null  object \n",
      " 7   master_metadata_track_name         15752 non-null  object \n",
      " 8   master_metadata_album_artist_name  15752 non-null  object \n",
      " 9   master_metadata_album_album_name   15752 non-null  object \n",
      " 10  spotify_track_uri                  15752 non-null  object \n",
      " 11  episode_name                       6 non-null      object \n",
      " 12  episode_show_name                  6 non-null      object \n",
      " 13  spotify_episode_uri                6 non-null      object \n",
      " 14  reason_start                       15769 non-null  object \n",
      " 15  reason_end                         15769 non-null  object \n",
      " 16  shuffle                            15769 non-null  bool   \n",
      " 17  skipped                            517 non-null    float64\n",
      " 18  offline                            15769 non-null  bool   \n",
      " 19  offline_timestamp                  15769 non-null  int64  \n",
      " 20  incognito_mode                     15769 non-null  bool   \n",
      "dtypes: bool(3), float64(1), int64(2), object(15)\n",
      "memory usage: 2.2+ MB\n"
     ]
    }
   ],
   "source": [
    "# Exibir info do dataset\n",
    "dataset_full.info()"
   ],
   "metadata": {
    "collapsed": false,
    "ExecuteTime": {
     "end_time": "2024-01-03T22:04:23.864538900Z",
     "start_time": "2024-01-03T22:04:23.790975300Z"
    }
   },
   "id": "779462ee161a3725",
   "execution_count": 4
  },
  {
   "cell_type": "markdown",
   "source": [
    "## Getting the relevant columns"
   ],
   "metadata": {
    "collapsed": false
   },
   "id": "1d9fb8107a984d0c"
  },
  {
   "cell_type": "code",
   "outputs": [
    {
     "data": {
      "text/plain": "                         ts                              platform  ms_played  \\\n0      2018-10-01T21:50:01Z  Android OS 6.0 API 23 (LGE, LG-K430)        753   \n1      2018-10-01T21:50:01Z  Android OS 6.0 API 23 (LGE, LG-K430)     324453   \n2      2018-10-01T21:50:01Z  Android OS 6.0 API 23 (LGE, LG-K430)       2569   \n3      2018-10-01T21:50:01Z  Android OS 6.0 API 23 (LGE, LG-K430)          0   \n4      2018-10-01T21:50:01Z  Android OS 6.0 API 23 (LGE, LG-K430)      12088   \n...                     ...                                   ...        ...   \n15764  2019-02-19T14:07:12Z          Windows 10 (10.0.17134; x64)     311866   \n15765  2019-02-19T14:09:50Z          Windows 10 (10.0.17134; x64)     107720   \n15766  2019-02-19T14:09:50Z          Windows 10 (10.0.17134; x64)     311866   \n15767  2019-02-19T14:09:50Z          Windows 10 (10.0.17134; x64)          0   \n15768  2019-02-19T14:29:43Z          Windows 10 (10.0.17134; x64)     207640   \n\n      master_metadata_track_name master_metadata_album_artist_name  \\\n0                           遥か彼方          ASIAN KUNG-FU GENERATION   \n1         HUNTING FOR YOUR DREAM                         GALNERYUS   \n2                          青春狂騒曲                       Sambomaster   \n3                          GO!!!                              FLOW   \n4                      Re:member                              FLOW   \n...                          ...                               ...   \n15764                   Stronger                        Kanye West   \n15765                   Stronger                        Kanye West   \n15766                   Stronger                        Kanye West   \n15767                      Crazy                    Gnarls Barkley   \n15768                   Stronger                        Kanye West   \n\n       master_metadata_album_album_name                     spotify_track_uri  \\\n0                 Destructive Amplifier  spotify:track:3bo6XgGWgo7VAHsN12LnOX   \n1                    ANGEL OF SALVATION  spotify:track:0jXK4Xy4LAEKFgRiTr3M7w   \n2            Sambomaster Kyuukyoku Best  spotify:track:3mPkQST4ybEL6xx0q7ujaZ   \n3                Flow Anime Best Kiwami  spotify:track:7a7Xou8pZEaVKDvdsBgFbl   \n4      FLOW the Best: Single Collection  spotify:track:1Ucmx7qaayeZL8Qfsq9vzD   \n...                                 ...                                   ...   \n15764                        Graduation  spotify:track:4y6c5vMzKKM3KsMbHtjKx5   \n15765                        Graduation  spotify:track:4y6c5vMzKKM3KsMbHtjKx5   \n15766                        Graduation  spotify:track:4y6c5vMzKKM3KsMbHtjKx5   \n15767                     St. Elsewhere  spotify:track:1vxw6aYJls2oq3gW0DujAo   \n15768                        Graduation  spotify:track:4y6c5vMzKKM3KsMbHtjKx5   \n\n      reason_start reason_end  shuffle  skipped  \n0           fwdbtn     fwdbtn    False      NaN  \n1          backbtn  trackdone    False      NaN  \n2           fwdbtn     fwdbtn    False      NaN  \n3           fwdbtn     fwdbtn    False      NaN  \n4        trackdone     fwdbtn    False      NaN  \n...            ...        ...      ...      ...  \n15764      appload  trackdone    False      NaN  \n15765     clickrow     logout    False      NaN  \n15766      appload  trackdone    False      NaN  \n15767    trackdone    backbtn    False      NaN  \n15768      backbtn     fwdbtn    False      NaN  \n\n[15769 rows x 11 columns]",
      "text/html": "<div>\n<style scoped>\n    .dataframe tbody tr th:only-of-type {\n        vertical-align: middle;\n    }\n\n    .dataframe tbody tr th {\n        vertical-align: top;\n    }\n\n    .dataframe thead th {\n        text-align: right;\n    }\n</style>\n<table border=\"1\" class=\"dataframe\">\n  <thead>\n    <tr style=\"text-align: right;\">\n      <th></th>\n      <th>ts</th>\n      <th>platform</th>\n      <th>ms_played</th>\n      <th>master_metadata_track_name</th>\n      <th>master_metadata_album_artist_name</th>\n      <th>master_metadata_album_album_name</th>\n      <th>spotify_track_uri</th>\n      <th>reason_start</th>\n      <th>reason_end</th>\n      <th>shuffle</th>\n      <th>skipped</th>\n    </tr>\n  </thead>\n  <tbody>\n    <tr>\n      <th>0</th>\n      <td>2018-10-01T21:50:01Z</td>\n      <td>Android OS 6.0 API 23 (LGE, LG-K430)</td>\n      <td>753</td>\n      <td>遥か彼方</td>\n      <td>ASIAN KUNG-FU GENERATION</td>\n      <td>Destructive Amplifier</td>\n      <td>spotify:track:3bo6XgGWgo7VAHsN12LnOX</td>\n      <td>fwdbtn</td>\n      <td>fwdbtn</td>\n      <td>False</td>\n      <td>NaN</td>\n    </tr>\n    <tr>\n      <th>1</th>\n      <td>2018-10-01T21:50:01Z</td>\n      <td>Android OS 6.0 API 23 (LGE, LG-K430)</td>\n      <td>324453</td>\n      <td>HUNTING FOR YOUR DREAM</td>\n      <td>GALNERYUS</td>\n      <td>ANGEL OF SALVATION</td>\n      <td>spotify:track:0jXK4Xy4LAEKFgRiTr3M7w</td>\n      <td>backbtn</td>\n      <td>trackdone</td>\n      <td>False</td>\n      <td>NaN</td>\n    </tr>\n    <tr>\n      <th>2</th>\n      <td>2018-10-01T21:50:01Z</td>\n      <td>Android OS 6.0 API 23 (LGE, LG-K430)</td>\n      <td>2569</td>\n      <td>青春狂騒曲</td>\n      <td>Sambomaster</td>\n      <td>Sambomaster Kyuukyoku Best</td>\n      <td>spotify:track:3mPkQST4ybEL6xx0q7ujaZ</td>\n      <td>fwdbtn</td>\n      <td>fwdbtn</td>\n      <td>False</td>\n      <td>NaN</td>\n    </tr>\n    <tr>\n      <th>3</th>\n      <td>2018-10-01T21:50:01Z</td>\n      <td>Android OS 6.0 API 23 (LGE, LG-K430)</td>\n      <td>0</td>\n      <td>GO!!!</td>\n      <td>FLOW</td>\n      <td>Flow Anime Best Kiwami</td>\n      <td>spotify:track:7a7Xou8pZEaVKDvdsBgFbl</td>\n      <td>fwdbtn</td>\n      <td>fwdbtn</td>\n      <td>False</td>\n      <td>NaN</td>\n    </tr>\n    <tr>\n      <th>4</th>\n      <td>2018-10-01T21:50:01Z</td>\n      <td>Android OS 6.0 API 23 (LGE, LG-K430)</td>\n      <td>12088</td>\n      <td>Re:member</td>\n      <td>FLOW</td>\n      <td>FLOW the Best: Single Collection</td>\n      <td>spotify:track:1Ucmx7qaayeZL8Qfsq9vzD</td>\n      <td>trackdone</td>\n      <td>fwdbtn</td>\n      <td>False</td>\n      <td>NaN</td>\n    </tr>\n    <tr>\n      <th>...</th>\n      <td>...</td>\n      <td>...</td>\n      <td>...</td>\n      <td>...</td>\n      <td>...</td>\n      <td>...</td>\n      <td>...</td>\n      <td>...</td>\n      <td>...</td>\n      <td>...</td>\n      <td>...</td>\n    </tr>\n    <tr>\n      <th>15764</th>\n      <td>2019-02-19T14:07:12Z</td>\n      <td>Windows 10 (10.0.17134; x64)</td>\n      <td>311866</td>\n      <td>Stronger</td>\n      <td>Kanye West</td>\n      <td>Graduation</td>\n      <td>spotify:track:4y6c5vMzKKM3KsMbHtjKx5</td>\n      <td>appload</td>\n      <td>trackdone</td>\n      <td>False</td>\n      <td>NaN</td>\n    </tr>\n    <tr>\n      <th>15765</th>\n      <td>2019-02-19T14:09:50Z</td>\n      <td>Windows 10 (10.0.17134; x64)</td>\n      <td>107720</td>\n      <td>Stronger</td>\n      <td>Kanye West</td>\n      <td>Graduation</td>\n      <td>spotify:track:4y6c5vMzKKM3KsMbHtjKx5</td>\n      <td>clickrow</td>\n      <td>logout</td>\n      <td>False</td>\n      <td>NaN</td>\n    </tr>\n    <tr>\n      <th>15766</th>\n      <td>2019-02-19T14:09:50Z</td>\n      <td>Windows 10 (10.0.17134; x64)</td>\n      <td>311866</td>\n      <td>Stronger</td>\n      <td>Kanye West</td>\n      <td>Graduation</td>\n      <td>spotify:track:4y6c5vMzKKM3KsMbHtjKx5</td>\n      <td>appload</td>\n      <td>trackdone</td>\n      <td>False</td>\n      <td>NaN</td>\n    </tr>\n    <tr>\n      <th>15767</th>\n      <td>2019-02-19T14:09:50Z</td>\n      <td>Windows 10 (10.0.17134; x64)</td>\n      <td>0</td>\n      <td>Crazy</td>\n      <td>Gnarls Barkley</td>\n      <td>St. Elsewhere</td>\n      <td>spotify:track:1vxw6aYJls2oq3gW0DujAo</td>\n      <td>trackdone</td>\n      <td>backbtn</td>\n      <td>False</td>\n      <td>NaN</td>\n    </tr>\n    <tr>\n      <th>15768</th>\n      <td>2019-02-19T14:29:43Z</td>\n      <td>Windows 10 (10.0.17134; x64)</td>\n      <td>207640</td>\n      <td>Stronger</td>\n      <td>Kanye West</td>\n      <td>Graduation</td>\n      <td>spotify:track:4y6c5vMzKKM3KsMbHtjKx5</td>\n      <td>backbtn</td>\n      <td>fwdbtn</td>\n      <td>False</td>\n      <td>NaN</td>\n    </tr>\n  </tbody>\n</table>\n<p>15769 rows × 11 columns</p>\n</div>"
     },
     "execution_count": 6,
     "metadata": {},
     "output_type": "execute_result"
    }
   ],
   "source": [
    "# Selecionar as colunas relevantes\n",
    "selected_columns = ['ts', 'platform','ms_played','master_metadata_track_name','master_metadata_album_artist_name','master_metadata_album_album_name','spotify_track_uri','reason_start','reason_end','shuffle','skipped']\n",
    "\n",
    "# Filtrando as colunas relevantes\n",
    "dataset_clean = dataset_full[selected_columns] \n",
    "\n",
    "dataset_clean"
   ],
   "metadata": {
    "collapsed": false,
    "ExecuteTime": {
     "end_time": "2024-01-03T22:08:55.217148800Z",
     "start_time": "2024-01-03T22:08:55.178042100Z"
    }
   },
   "id": "30721340aa5439cd",
   "execution_count": 6
  },
  {
   "cell_type": "code",
   "outputs": [
    {
     "name": "stdout",
     "output_type": "stream",
     "text": [
      "<class 'pandas.core.frame.DataFrame'>\n",
      "RangeIndex: 15769 entries, 0 to 15768\n",
      "Data columns (total 11 columns):\n",
      " #   Column                             Non-Null Count  Dtype  \n",
      "---  ------                             --------------  -----  \n",
      " 0   ts                                 15769 non-null  object \n",
      " 1   platform                           15769 non-null  object \n",
      " 2   ms_played                          15769 non-null  int64  \n",
      " 3   master_metadata_track_name         15752 non-null  object \n",
      " 4   master_metadata_album_artist_name  15752 non-null  object \n",
      " 5   master_metadata_album_album_name   15752 non-null  object \n",
      " 6   spotify_track_uri                  15752 non-null  object \n",
      " 7   reason_start                       15769 non-null  object \n",
      " 8   reason_end                         15769 non-null  object \n",
      " 9   shuffle                            15769 non-null  bool   \n",
      " 10  skipped                            517 non-null    float64\n",
      "dtypes: bool(1), float64(1), int64(1), object(8)\n",
      "memory usage: 1.2+ MB\n"
     ]
    }
   ],
   "source": [
    "# Exibir info do dataset novo\n",
    "dataset_clean.info()"
   ],
   "metadata": {
    "collapsed": false,
    "ExecuteTime": {
     "end_time": "2024-01-03T22:11:04.687993800Z",
     "start_time": "2024-01-03T22:11:04.588579300Z"
    }
   },
   "id": "5b6d75d188b474f5",
   "execution_count": 7
  },
  {
   "cell_type": "markdown",
   "source": [
    "## Load all the datasets"
   ],
   "metadata": {
    "collapsed": false
   },
   "id": "fd994ec79554dad3"
  },
  {
   "cell_type": "code",
   "outputs": [
    {
     "name": "stdout",
     "output_type": "stream",
     "text": [
      "<class 'pandas.core.frame.DataFrame'>\n",
      "Index: 261182 entries, 0 to 219\n",
      "Data columns (total 21 columns):\n",
      " #   Column                             Non-Null Count   Dtype  \n",
      "---  ------                             --------------   -----  \n",
      " 0   ts                                 261182 non-null  object \n",
      " 1   username                           261182 non-null  object \n",
      " 2   platform                           261182 non-null  object \n",
      " 3   ms_played                          261182 non-null  int64  \n",
      " 4   conn_country                       261182 non-null  object \n",
      " 5   ip_addr_decrypted                  253340 non-null  object \n",
      " 6   user_agent_decrypted               252783 non-null  object \n",
      " 7   master_metadata_track_name         259312 non-null  object \n",
      " 8   master_metadata_album_artist_name  259312 non-null  object \n",
      " 9   master_metadata_album_album_name   259312 non-null  object \n",
      " 10  spotify_track_uri                  259312 non-null  object \n",
      " 11  episode_name                       260 non-null     object \n",
      " 12  episode_show_name                  260 non-null     object \n",
      " 13  spotify_episode_uri                260 non-null     object \n",
      " 14  reason_start                       261182 non-null  object \n",
      " 15  reason_end                         253340 non-null  object \n",
      " 16  shuffle                            261182 non-null  bool   \n",
      " 17  skipped                            66428 non-null   object \n",
      " 18  offline                            260962 non-null  object \n",
      " 19  offline_timestamp                  261152 non-null  float64\n",
      " 20  incognito_mode                     261182 non-null  bool   \n",
      "dtypes: bool(2), float64(1), int64(1), object(17)\n",
      "memory usage: 40.4+ MB\n"
     ]
    }
   ],
   "source": [
    "# Criar uma lista vazia para adicionar os dataframes\n",
    "list_df = []\n",
    "\n",
    "# Criar lista com todos os json da pasta 'streaming_history'\n",
    "json_list = glob.glob('datasets/streaming_history/Streaming_History*.json')\n",
    "\n",
    "# Criar loop para abrir e concatenar com o df_main \n",
    "for json in json_list:\n",
    "    df = pd.read_json(json)\n",
    "    list_df.append(df)\n",
    "\n",
    "# Concatenar os DataFrames\n",
    "df_main = pd.concat(list_df)\n",
    "\n",
    "df_main.info()"
   ],
   "metadata": {
    "collapsed": false,
    "ExecuteTime": {
     "end_time": "2024-01-03T22:57:12.378169600Z",
     "start_time": "2024-01-03T22:57:02.533990900Z"
    }
   },
   "id": "460fafe1612de969",
   "execution_count": 21
  },
  {
   "cell_type": "code",
   "outputs": [
    {
     "name": "stdout",
     "output_type": "stream",
     "text": [
      "<class 'pandas.core.frame.DataFrame'>\n",
      "Index: 261182 entries, 0 to 219\n",
      "Data columns (total 11 columns):\n",
      " #   Column                             Non-Null Count   Dtype \n",
      "---  ------                             --------------   ----- \n",
      " 0   ts                                 261182 non-null  object\n",
      " 1   platform                           261182 non-null  object\n",
      " 2   ms_played                          261182 non-null  int64 \n",
      " 3   master_metadata_track_name         259312 non-null  object\n",
      " 4   master_metadata_album_artist_name  259312 non-null  object\n",
      " 5   master_metadata_album_album_name   259312 non-null  object\n",
      " 6   spotify_track_uri                  259312 non-null  object\n",
      " 7   reason_start                       261182 non-null  object\n",
      " 8   reason_end                         253340 non-null  object\n",
      " 9   shuffle                            261182 non-null  bool  \n",
      " 10  skipped                            66428 non-null   object\n",
      "dtypes: bool(1), int64(1), object(9)\n",
      "memory usage: 22.2+ MB\n"
     ]
    }
   ],
   "source": [
    "# Filtrando as colunas relevantes\n",
    "df_main_clean = df_main[selected_columns]\n",
    "\n",
    "df_main_clean.info()"
   ],
   "metadata": {
    "collapsed": false,
    "ExecuteTime": {
     "end_time": "2024-01-03T22:57:21.041772300Z",
     "start_time": "2024-01-03T22:57:20.259296Z"
    }
   },
   "id": "6ec865e144649597",
   "execution_count": 22
  },
  {
   "cell_type": "markdown",
   "source": [
    "## Drop the null values"
   ],
   "metadata": {
    "collapsed": false
   },
   "id": "7f5d209110da1455"
  },
  {
   "cell_type": "code",
   "outputs": [
    {
     "name": "stdout",
     "output_type": "stream",
     "text": [
      "<class 'pandas.core.frame.DataFrame'>\n",
      "Index: 259312 entries, 0 to 219\n",
      "Data columns (total 11 columns):\n",
      " #   Column                             Non-Null Count   Dtype \n",
      "---  ------                             --------------   ----- \n",
      " 0   ts                                 259312 non-null  object\n",
      " 1   platform                           259312 non-null  object\n",
      " 2   ms_played                          259312 non-null  int64 \n",
      " 3   master_metadata_track_name         259312 non-null  object\n",
      " 4   master_metadata_album_artist_name  259312 non-null  object\n",
      " 5   master_metadata_album_album_name   259312 non-null  object\n",
      " 6   spotify_track_uri                  259312 non-null  object\n",
      " 7   reason_start                       259312 non-null  object\n",
      " 8   reason_end                         251475 non-null  object\n",
      " 9   shuffle                            259312 non-null  bool  \n",
      " 10  skipped                            66335 non-null   object\n",
      "dtypes: bool(1), int64(1), object(9)\n",
      "memory usage: 22.0+ MB\n"
     ]
    }
   ],
   "source": [
    "# Drop os records com valor null na coluna 'master_metadata_track_name'\n",
    "df_main_clean = df_main_clean.dropna(subset=['master_metadata_track_name'])\n",
    "\n",
    "df_main_clean.info()"
   ],
   "metadata": {
    "collapsed": false,
    "ExecuteTime": {
     "end_time": "2024-01-03T22:57:24.020533300Z",
     "start_time": "2024-01-03T22:57:23.418283700Z"
    }
   },
   "id": "a1fbe7bb9a5af091",
   "execution_count": 23
  },
  {
   "cell_type": "code",
   "outputs": [
    {
     "name": "stdout",
     "output_type": "stream",
     "text": [
      "<class 'pandas.core.frame.DataFrame'>\n",
      "Index: 259312 entries, 0 to 219\n",
      "Data columns (total 11 columns):\n",
      " #   Column                             Non-Null Count   Dtype \n",
      "---  ------                             --------------   ----- \n",
      " 0   ts                                 259312 non-null  object\n",
      " 1   platform                           259312 non-null  object\n",
      " 2   ms_played                          259312 non-null  int64 \n",
      " 3   master_metadata_track_name         259312 non-null  object\n",
      " 4   master_metadata_album_artist_name  259312 non-null  object\n",
      " 5   master_metadata_album_album_name   259312 non-null  object\n",
      " 6   spotify_track_uri                  259312 non-null  object\n",
      " 7   reason_start                       259312 non-null  object\n",
      " 8   reason_end                         259312 non-null  object\n",
      " 9   shuffle                            259312 non-null  bool  \n",
      " 10  skipped                            66335 non-null   object\n",
      "dtypes: bool(1), int64(1), object(9)\n",
      "memory usage: 22.0+ MB\n"
     ]
    }
   ],
   "source": [
    "# Substituindo os valores null da coluna 'reason_end'\n",
    "df_main_clean['reason_end'] = df_main_clean['reason_end'].fillna('Unknown')\n",
    "\n",
    "df_main_clean.info()"
   ],
   "metadata": {
    "collapsed": false,
    "ExecuteTime": {
     "end_time": "2024-01-03T22:57:25.829721600Z",
     "start_time": "2024-01-03T22:57:25.472417800Z"
    }
   },
   "id": "cbd90bdeb2eb7a0a",
   "execution_count": 24
  },
  {
   "cell_type": "code",
   "outputs": [
    {
     "name": "stdout",
     "output_type": "stream",
     "text": [
      "<class 'pandas.core.frame.DataFrame'>\n",
      "Index: 259312 entries, 0 to 219\n",
      "Data columns (total 10 columns):\n",
      " #   Column                             Non-Null Count   Dtype \n",
      "---  ------                             --------------   ----- \n",
      " 0   ts                                 259312 non-null  object\n",
      " 1   platform                           259312 non-null  object\n",
      " 2   ms_played                          259312 non-null  int64 \n",
      " 3   master_metadata_track_name         259312 non-null  object\n",
      " 4   master_metadata_album_artist_name  259312 non-null  object\n",
      " 5   master_metadata_album_album_name   259312 non-null  object\n",
      " 6   spotify_track_uri                  259312 non-null  object\n",
      " 7   reason_start                       259312 non-null  object\n",
      " 8   reason_end                         259312 non-null  object\n",
      " 9   shuffle                            259312 non-null  bool  \n",
      "dtypes: bool(1), int64(1), object(8)\n",
      "memory usage: 20.0+ MB\n"
     ]
    }
   ],
   "source": [
    "# Drop a coluna shuffle\n",
    "df_main_clean = df_main_clean.drop('skipped', axis=1)\n",
    "\n",
    "df_main_clean.info()"
   ],
   "metadata": {
    "collapsed": false,
    "ExecuteTime": {
     "end_time": "2024-01-03T22:57:38.120817200Z",
     "start_time": "2024-01-03T22:57:37.566328400Z"
    }
   },
   "id": "5a4246a20ce3cf3a",
   "execution_count": 25
  },
  {
   "cell_type": "markdown",
   "source": [
    "## Change the types of data"
   ],
   "metadata": {
    "collapsed": false
   },
   "id": "700b84227686f8bb"
  },
  {
   "cell_type": "code",
   "outputs": [
    {
     "name": "stdout",
     "output_type": "stream",
     "text": [
      "<class 'pandas.core.frame.DataFrame'>\n",
      "Index: 259312 entries, 0 to 219\n",
      "Data columns (total 10 columns):\n",
      " #   Column                             Non-Null Count   Dtype              \n",
      "---  ------                             --------------   -----              \n",
      " 0   ts                                 259312 non-null  datetime64[ns, UTC]\n",
      " 1   platform                           259312 non-null  object             \n",
      " 2   ms_played                          259312 non-null  int64              \n",
      " 3   master_metadata_track_name         259312 non-null  object             \n",
      " 4   master_metadata_album_artist_name  259312 non-null  object             \n",
      " 5   master_metadata_album_album_name   259312 non-null  object             \n",
      " 6   spotify_track_uri                  259312 non-null  object             \n",
      " 7   reason_start                       259312 non-null  object             \n",
      " 8   reason_end                         259312 non-null  object             \n",
      " 9   shuffle                            259312 non-null  bool               \n",
      "dtypes: bool(1), datetime64[ns, UTC](1), int64(1), object(7)\n",
      "memory usage: 20.0+ MB\n"
     ]
    }
   ],
   "source": [
    "df_main_clean.info()"
   ],
   "metadata": {
    "collapsed": false,
    "ExecuteTime": {
     "end_time": "2024-01-03T23:02:05.951653200Z",
     "start_time": "2024-01-03T23:02:05.628975Z"
    }
   },
   "id": "5030169e862f686e",
   "execution_count": 28
  },
  {
   "cell_type": "code",
   "outputs": [
    {
     "data": {
      "text/plain": "                           ts                                 platform  \\\n0   2017-06-17 07:45:29+00:00  Android OS 5.1.1 API 22 (asus, ZB500KG)   \n1   2017-06-17 07:47:14+00:00  Android OS 5.1.1 API 22 (asus, ZB500KG)   \n2   2017-06-17 07:50:35+00:00  Android OS 5.1.1 API 22 (asus, ZB500KG)   \n3   2017-06-17 07:51:11+00:00  Android OS 5.1.1 API 22 (asus, ZB500KG)   \n4   2017-06-17 07:53:01+00:00  Android OS 5.1.1 API 22 (asus, ZB500KG)   \n..                        ...                                      ...   \n215 2023-10-22 16:34:32+00:00                                  android   \n216 2023-10-22 16:34:33+00:00                                  android   \n217 2023-10-22 16:34:34+00:00                                  android   \n218 2023-10-22 16:34:35+00:00                                  android   \n219 2023-10-22 16:34:38+00:00                                  android   \n\n     ms_played    master_metadata_track_name  \\\n0       170640            Goya No Machiawase   \n1       103057           夏の夜 - mindless ver.   \n2       202160                        CATCHY   \n3        34252                            忘却   \n4        19598  Odoru Rollschach (Album MIX)   \n..         ...                           ...   \n215        965  Last Friday Night (T.G.I.F.)   \n216       1458                Counting Stars   \n217        555                 Feel It Still   \n218        370              Balada - Ao Vivo   \n219       1256       Wonderwall - Remastered   \n\n    master_metadata_album_artist_name   master_metadata_album_album_name  \\\n0                  Hello Sleepwalkers            Masked Monkey Awakening   \n1                        The SALOVERS                          いざ、サラバーズ!   \n2                           SAKANAMON                                cue   \n3                unsuspected monogram                           the mass   \n4                           Owarikara                      Saihate Songs   \n..                                ...                                ...   \n215                        Katy Perry                      Teenage Dream   \n216                       OneRepublic                             Native   \n217                 Portugal. The Man                          Woodstock   \n218                     Gusttavo Lima     Gusttavo Lima e Você (Ao Vivo)   \n219                             Oasis  (What's The Story) Morning Glory?   \n\n                        spotify_track_uri reason_start reason_end  shuffle  \n0    spotify:track:5s0AxcVJJD2YYPstMb61ro      playbtn    Unknown     True  \n1    spotify:track:42ozSV9iAbmCWiu0vj6w9G    trackdone    Unknown     True  \n2    spotify:track:7EgCCgwAnYByrPNaLL8glY       fwdbtn    Unknown     True  \n3    spotify:track:56Ubcj1uWQnUFa8csX7HYb    trackdone    Unknown     True  \n4    spotify:track:6oQoat3S16FAGoerAmeDRS       fwdbtn    Unknown     True  \n..                                    ...          ...        ...      ...  \n215  spotify:track:3KoTtGEDiBwUWzdRQVh9lh      unknown    unknown    False  \n216  spotify:track:2tpWsVSb9UEmDRxAl1zhX1      unknown    unknown    False  \n217  spotify:track:6QgjcU0zLnzq5OrUoSZ3OK      unknown    endplay    False  \n218  spotify:track:0zZnBbRW4Dt4cJKVtUQFwF      unknown    endplay    False  \n219  spotify:track:5qqabIl2vWzo9ApSC317sa      unknown    endplay    False  \n\n[259312 rows x 10 columns]",
      "text/html": "<div>\n<style scoped>\n    .dataframe tbody tr th:only-of-type {\n        vertical-align: middle;\n    }\n\n    .dataframe tbody tr th {\n        vertical-align: top;\n    }\n\n    .dataframe thead th {\n        text-align: right;\n    }\n</style>\n<table border=\"1\" class=\"dataframe\">\n  <thead>\n    <tr style=\"text-align: right;\">\n      <th></th>\n      <th>ts</th>\n      <th>platform</th>\n      <th>ms_played</th>\n      <th>master_metadata_track_name</th>\n      <th>master_metadata_album_artist_name</th>\n      <th>master_metadata_album_album_name</th>\n      <th>spotify_track_uri</th>\n      <th>reason_start</th>\n      <th>reason_end</th>\n      <th>shuffle</th>\n    </tr>\n  </thead>\n  <tbody>\n    <tr>\n      <th>0</th>\n      <td>2017-06-17 07:45:29+00:00</td>\n      <td>Android OS 5.1.1 API 22 (asus, ZB500KG)</td>\n      <td>170640</td>\n      <td>Goya No Machiawase</td>\n      <td>Hello Sleepwalkers</td>\n      <td>Masked Monkey Awakening</td>\n      <td>spotify:track:5s0AxcVJJD2YYPstMb61ro</td>\n      <td>playbtn</td>\n      <td>Unknown</td>\n      <td>True</td>\n    </tr>\n    <tr>\n      <th>1</th>\n      <td>2017-06-17 07:47:14+00:00</td>\n      <td>Android OS 5.1.1 API 22 (asus, ZB500KG)</td>\n      <td>103057</td>\n      <td>夏の夜 - mindless ver.</td>\n      <td>The SALOVERS</td>\n      <td>いざ、サラバーズ!</td>\n      <td>spotify:track:42ozSV9iAbmCWiu0vj6w9G</td>\n      <td>trackdone</td>\n      <td>Unknown</td>\n      <td>True</td>\n    </tr>\n    <tr>\n      <th>2</th>\n      <td>2017-06-17 07:50:35+00:00</td>\n      <td>Android OS 5.1.1 API 22 (asus, ZB500KG)</td>\n      <td>202160</td>\n      <td>CATCHY</td>\n      <td>SAKANAMON</td>\n      <td>cue</td>\n      <td>spotify:track:7EgCCgwAnYByrPNaLL8glY</td>\n      <td>fwdbtn</td>\n      <td>Unknown</td>\n      <td>True</td>\n    </tr>\n    <tr>\n      <th>3</th>\n      <td>2017-06-17 07:51:11+00:00</td>\n      <td>Android OS 5.1.1 API 22 (asus, ZB500KG)</td>\n      <td>34252</td>\n      <td>忘却</td>\n      <td>unsuspected monogram</td>\n      <td>the mass</td>\n      <td>spotify:track:56Ubcj1uWQnUFa8csX7HYb</td>\n      <td>trackdone</td>\n      <td>Unknown</td>\n      <td>True</td>\n    </tr>\n    <tr>\n      <th>4</th>\n      <td>2017-06-17 07:53:01+00:00</td>\n      <td>Android OS 5.1.1 API 22 (asus, ZB500KG)</td>\n      <td>19598</td>\n      <td>Odoru Rollschach (Album MIX)</td>\n      <td>Owarikara</td>\n      <td>Saihate Songs</td>\n      <td>spotify:track:6oQoat3S16FAGoerAmeDRS</td>\n      <td>fwdbtn</td>\n      <td>Unknown</td>\n      <td>True</td>\n    </tr>\n    <tr>\n      <th>...</th>\n      <td>...</td>\n      <td>...</td>\n      <td>...</td>\n      <td>...</td>\n      <td>...</td>\n      <td>...</td>\n      <td>...</td>\n      <td>...</td>\n      <td>...</td>\n      <td>...</td>\n    </tr>\n    <tr>\n      <th>215</th>\n      <td>2023-10-22 16:34:32+00:00</td>\n      <td>android</td>\n      <td>965</td>\n      <td>Last Friday Night (T.G.I.F.)</td>\n      <td>Katy Perry</td>\n      <td>Teenage Dream</td>\n      <td>spotify:track:3KoTtGEDiBwUWzdRQVh9lh</td>\n      <td>unknown</td>\n      <td>unknown</td>\n      <td>False</td>\n    </tr>\n    <tr>\n      <th>216</th>\n      <td>2023-10-22 16:34:33+00:00</td>\n      <td>android</td>\n      <td>1458</td>\n      <td>Counting Stars</td>\n      <td>OneRepublic</td>\n      <td>Native</td>\n      <td>spotify:track:2tpWsVSb9UEmDRxAl1zhX1</td>\n      <td>unknown</td>\n      <td>unknown</td>\n      <td>False</td>\n    </tr>\n    <tr>\n      <th>217</th>\n      <td>2023-10-22 16:34:34+00:00</td>\n      <td>android</td>\n      <td>555</td>\n      <td>Feel It Still</td>\n      <td>Portugal. The Man</td>\n      <td>Woodstock</td>\n      <td>spotify:track:6QgjcU0zLnzq5OrUoSZ3OK</td>\n      <td>unknown</td>\n      <td>endplay</td>\n      <td>False</td>\n    </tr>\n    <tr>\n      <th>218</th>\n      <td>2023-10-22 16:34:35+00:00</td>\n      <td>android</td>\n      <td>370</td>\n      <td>Balada - Ao Vivo</td>\n      <td>Gusttavo Lima</td>\n      <td>Gusttavo Lima e Você (Ao Vivo)</td>\n      <td>spotify:track:0zZnBbRW4Dt4cJKVtUQFwF</td>\n      <td>unknown</td>\n      <td>endplay</td>\n      <td>False</td>\n    </tr>\n    <tr>\n      <th>219</th>\n      <td>2023-10-22 16:34:38+00:00</td>\n      <td>android</td>\n      <td>1256</td>\n      <td>Wonderwall - Remastered</td>\n      <td>Oasis</td>\n      <td>(What's The Story) Morning Glory?</td>\n      <td>spotify:track:5qqabIl2vWzo9ApSC317sa</td>\n      <td>unknown</td>\n      <td>endplay</td>\n      <td>False</td>\n    </tr>\n  </tbody>\n</table>\n<p>259312 rows × 10 columns</p>\n</div>"
     },
     "execution_count": 27,
     "metadata": {},
     "output_type": "execute_result"
    }
   ],
   "source": [
    "# Mudar tipo de dado da coluna ts para datetime\n",
    "df_main_clean['ts'] = pd.to_datetime(df_main_clean['ts'])\n",
    "\n",
    "df_main_clean"
   ],
   "metadata": {
    "collapsed": false,
    "ExecuteTime": {
     "end_time": "2024-01-03T23:01:39.548001700Z",
     "start_time": "2024-01-03T23:01:36.223650700Z"
    }
   },
   "id": "ad0e5b54f84b59b8",
   "execution_count": 27
  },
  {
   "cell_type": "code",
   "outputs": [
    {
     "ename": "TypeError",
     "evalue": "unsupported type for timedelta milliseconds component: Timedelta",
     "output_type": "error",
     "traceback": [
      "\u001B[1;31m---------------------------------------------------------------------------\u001B[0m",
      "\u001B[1;31mTypeError\u001B[0m                                 Traceback (most recent call last)",
      "Cell \u001B[1;32mIn[31], line 2\u001B[0m\n\u001B[0;32m      1\u001B[0m \u001B[38;5;66;03m# Mudar tipo de dado da coluna ms_played para time\u001B[39;00m\n\u001B[1;32m----> 2\u001B[0m df_main_clean[\u001B[38;5;124m'\u001B[39m\u001B[38;5;124mms_played\u001B[39m\u001B[38;5;124m'\u001B[39m] \u001B[38;5;241m=\u001B[39m \u001B[43mdf_main_clean\u001B[49m\u001B[43m[\u001B[49m\u001B[38;5;124;43m'\u001B[39;49m\u001B[38;5;124;43mms_played\u001B[39;49m\u001B[38;5;124;43m'\u001B[39;49m\u001B[43m]\u001B[49m\u001B[38;5;241;43m.\u001B[39;49m\u001B[43mapply\u001B[49m\u001B[43m(\u001B[49m\u001B[38;5;28;43;01mlambda\u001B[39;49;00m\u001B[43m \u001B[49m\u001B[43mx\u001B[49m\u001B[43m:\u001B[49m\u001B[43m \u001B[49m\u001B[43mtimedelta\u001B[49m\u001B[43m(\u001B[49m\u001B[43mmilliseconds\u001B[49m\u001B[38;5;241;43m=\u001B[39;49m\u001B[43mx\u001B[49m\u001B[43m)\u001B[49m\u001B[43m)\u001B[49m\n\u001B[0;32m      4\u001B[0m df_main_clean\n",
      "File \u001B[1;32m~\\AppData\\Local\\Programs\\Python\\Python312\\Lib\\site-packages\\pandas\\core\\series.py:4764\u001B[0m, in \u001B[0;36mSeries.apply\u001B[1;34m(self, func, convert_dtype, args, by_row, **kwargs)\u001B[0m\n\u001B[0;32m   4629\u001B[0m \u001B[38;5;28;01mdef\u001B[39;00m \u001B[38;5;21mapply\u001B[39m(\n\u001B[0;32m   4630\u001B[0m     \u001B[38;5;28mself\u001B[39m,\n\u001B[0;32m   4631\u001B[0m     func: AggFuncType,\n\u001B[1;32m   (...)\u001B[0m\n\u001B[0;32m   4636\u001B[0m     \u001B[38;5;241m*\u001B[39m\u001B[38;5;241m*\u001B[39mkwargs,\n\u001B[0;32m   4637\u001B[0m ) \u001B[38;5;241m-\u001B[39m\u001B[38;5;241m>\u001B[39m DataFrame \u001B[38;5;241m|\u001B[39m Series:\n\u001B[0;32m   4638\u001B[0m \u001B[38;5;250m    \u001B[39m\u001B[38;5;124;03m\"\"\"\u001B[39;00m\n\u001B[0;32m   4639\u001B[0m \u001B[38;5;124;03m    Invoke function on values of Series.\u001B[39;00m\n\u001B[0;32m   4640\u001B[0m \n\u001B[1;32m   (...)\u001B[0m\n\u001B[0;32m   4755\u001B[0m \u001B[38;5;124;03m    dtype: float64\u001B[39;00m\n\u001B[0;32m   4756\u001B[0m \u001B[38;5;124;03m    \"\"\"\u001B[39;00m\n\u001B[0;32m   4757\u001B[0m     \u001B[38;5;28;01mreturn\u001B[39;00m \u001B[43mSeriesApply\u001B[49m\u001B[43m(\u001B[49m\n\u001B[0;32m   4758\u001B[0m \u001B[43m        \u001B[49m\u001B[38;5;28;43mself\u001B[39;49m\u001B[43m,\u001B[49m\n\u001B[0;32m   4759\u001B[0m \u001B[43m        \u001B[49m\u001B[43mfunc\u001B[49m\u001B[43m,\u001B[49m\n\u001B[0;32m   4760\u001B[0m \u001B[43m        \u001B[49m\u001B[43mconvert_dtype\u001B[49m\u001B[38;5;241;43m=\u001B[39;49m\u001B[43mconvert_dtype\u001B[49m\u001B[43m,\u001B[49m\n\u001B[0;32m   4761\u001B[0m \u001B[43m        \u001B[49m\u001B[43mby_row\u001B[49m\u001B[38;5;241;43m=\u001B[39;49m\u001B[43mby_row\u001B[49m\u001B[43m,\u001B[49m\n\u001B[0;32m   4762\u001B[0m \u001B[43m        \u001B[49m\u001B[43margs\u001B[49m\u001B[38;5;241;43m=\u001B[39;49m\u001B[43margs\u001B[49m\u001B[43m,\u001B[49m\n\u001B[0;32m   4763\u001B[0m \u001B[43m        \u001B[49m\u001B[43mkwargs\u001B[49m\u001B[38;5;241;43m=\u001B[39;49m\u001B[43mkwargs\u001B[49m\u001B[43m,\u001B[49m\n\u001B[1;32m-> 4764\u001B[0m \u001B[43m    \u001B[49m\u001B[43m)\u001B[49m\u001B[38;5;241;43m.\u001B[39;49m\u001B[43mapply\u001B[49m\u001B[43m(\u001B[49m\u001B[43m)\u001B[49m\n",
      "File \u001B[1;32m~\\AppData\\Local\\Programs\\Python\\Python312\\Lib\\site-packages\\pandas\\core\\apply.py:1209\u001B[0m, in \u001B[0;36mSeriesApply.apply\u001B[1;34m(self)\u001B[0m\n\u001B[0;32m   1206\u001B[0m     \u001B[38;5;28;01mreturn\u001B[39;00m \u001B[38;5;28mself\u001B[39m\u001B[38;5;241m.\u001B[39mapply_compat()\n\u001B[0;32m   1208\u001B[0m \u001B[38;5;66;03m# self.func is Callable\u001B[39;00m\n\u001B[1;32m-> 1209\u001B[0m \u001B[38;5;28;01mreturn\u001B[39;00m \u001B[38;5;28;43mself\u001B[39;49m\u001B[38;5;241;43m.\u001B[39;49m\u001B[43mapply_standard\u001B[49m\u001B[43m(\u001B[49m\u001B[43m)\u001B[49m\n",
      "File \u001B[1;32m~\\AppData\\Local\\Programs\\Python\\Python312\\Lib\\site-packages\\pandas\\core\\apply.py:1289\u001B[0m, in \u001B[0;36mSeriesApply.apply_standard\u001B[1;34m(self)\u001B[0m\n\u001B[0;32m   1283\u001B[0m \u001B[38;5;66;03m# row-wise access\u001B[39;00m\n\u001B[0;32m   1284\u001B[0m \u001B[38;5;66;03m# apply doesn't have a `na_action` keyword and for backward compat reasons\u001B[39;00m\n\u001B[0;32m   1285\u001B[0m \u001B[38;5;66;03m# we need to give `na_action=\"ignore\"` for categorical data.\u001B[39;00m\n\u001B[0;32m   1286\u001B[0m \u001B[38;5;66;03m# TODO: remove the `na_action=\"ignore\"` when that default has been changed in\u001B[39;00m\n\u001B[0;32m   1287\u001B[0m \u001B[38;5;66;03m#  Categorical (GH51645).\u001B[39;00m\n\u001B[0;32m   1288\u001B[0m action \u001B[38;5;241m=\u001B[39m \u001B[38;5;124m\"\u001B[39m\u001B[38;5;124mignore\u001B[39m\u001B[38;5;124m\"\u001B[39m \u001B[38;5;28;01mif\u001B[39;00m \u001B[38;5;28misinstance\u001B[39m(obj\u001B[38;5;241m.\u001B[39mdtype, CategoricalDtype) \u001B[38;5;28;01melse\u001B[39;00m \u001B[38;5;28;01mNone\u001B[39;00m\n\u001B[1;32m-> 1289\u001B[0m mapped \u001B[38;5;241m=\u001B[39m \u001B[43mobj\u001B[49m\u001B[38;5;241;43m.\u001B[39;49m\u001B[43m_map_values\u001B[49m\u001B[43m(\u001B[49m\n\u001B[0;32m   1290\u001B[0m \u001B[43m    \u001B[49m\u001B[43mmapper\u001B[49m\u001B[38;5;241;43m=\u001B[39;49m\u001B[43mcurried\u001B[49m\u001B[43m,\u001B[49m\u001B[43m \u001B[49m\u001B[43mna_action\u001B[49m\u001B[38;5;241;43m=\u001B[39;49m\u001B[43maction\u001B[49m\u001B[43m,\u001B[49m\u001B[43m \u001B[49m\u001B[43mconvert\u001B[49m\u001B[38;5;241;43m=\u001B[39;49m\u001B[38;5;28;43mself\u001B[39;49m\u001B[38;5;241;43m.\u001B[39;49m\u001B[43mconvert_dtype\u001B[49m\n\u001B[0;32m   1291\u001B[0m \u001B[43m\u001B[49m\u001B[43m)\u001B[49m\n\u001B[0;32m   1293\u001B[0m \u001B[38;5;28;01mif\u001B[39;00m \u001B[38;5;28mlen\u001B[39m(mapped) \u001B[38;5;129;01mand\u001B[39;00m \u001B[38;5;28misinstance\u001B[39m(mapped[\u001B[38;5;241m0\u001B[39m], ABCSeries):\n\u001B[0;32m   1294\u001B[0m     \u001B[38;5;66;03m# GH#43986 Need to do list(mapped) in order to get treated as nested\u001B[39;00m\n\u001B[0;32m   1295\u001B[0m     \u001B[38;5;66;03m#  See also GH#25959 regarding EA support\u001B[39;00m\n\u001B[0;32m   1296\u001B[0m     \u001B[38;5;28;01mreturn\u001B[39;00m obj\u001B[38;5;241m.\u001B[39m_constructor_expanddim(\u001B[38;5;28mlist\u001B[39m(mapped), index\u001B[38;5;241m=\u001B[39mobj\u001B[38;5;241m.\u001B[39mindex)\n",
      "File \u001B[1;32m~\\AppData\\Local\\Programs\\Python\\Python312\\Lib\\site-packages\\pandas\\core\\base.py:919\u001B[0m, in \u001B[0;36mIndexOpsMixin._map_values\u001B[1;34m(self, mapper, na_action, convert)\u001B[0m\n\u001B[0;32m    916\u001B[0m arr \u001B[38;5;241m=\u001B[39m \u001B[38;5;28mself\u001B[39m\u001B[38;5;241m.\u001B[39m_values\n\u001B[0;32m    918\u001B[0m \u001B[38;5;28;01mif\u001B[39;00m \u001B[38;5;28misinstance\u001B[39m(arr, ExtensionArray):\n\u001B[1;32m--> 919\u001B[0m     \u001B[38;5;28;01mreturn\u001B[39;00m \u001B[43marr\u001B[49m\u001B[38;5;241;43m.\u001B[39;49m\u001B[43mmap\u001B[49m\u001B[43m(\u001B[49m\u001B[43mmapper\u001B[49m\u001B[43m,\u001B[49m\u001B[43m \u001B[49m\u001B[43mna_action\u001B[49m\u001B[38;5;241;43m=\u001B[39;49m\u001B[43mna_action\u001B[49m\u001B[43m)\u001B[49m\n\u001B[0;32m    921\u001B[0m \u001B[38;5;28;01mreturn\u001B[39;00m algorithms\u001B[38;5;241m.\u001B[39mmap_array(arr, mapper, na_action\u001B[38;5;241m=\u001B[39mna_action, convert\u001B[38;5;241m=\u001B[39mconvert)\n",
      "File \u001B[1;32m~\\AppData\\Local\\Programs\\Python\\Python312\\Lib\\site-packages\\pandas\\core\\arrays\\_mixins.py:80\u001B[0m, in \u001B[0;36mravel_compat.<locals>.method\u001B[1;34m(self, *args, **kwargs)\u001B[0m\n\u001B[0;32m     77\u001B[0m \u001B[38;5;129m@wraps\u001B[39m(meth)\n\u001B[0;32m     78\u001B[0m \u001B[38;5;28;01mdef\u001B[39;00m \u001B[38;5;21mmethod\u001B[39m(\u001B[38;5;28mself\u001B[39m, \u001B[38;5;241m*\u001B[39margs, \u001B[38;5;241m*\u001B[39m\u001B[38;5;241m*\u001B[39mkwargs):\n\u001B[0;32m     79\u001B[0m     \u001B[38;5;28;01mif\u001B[39;00m \u001B[38;5;28mself\u001B[39m\u001B[38;5;241m.\u001B[39mndim \u001B[38;5;241m==\u001B[39m \u001B[38;5;241m1\u001B[39m:\n\u001B[1;32m---> 80\u001B[0m         \u001B[38;5;28;01mreturn\u001B[39;00m \u001B[43mmeth\u001B[49m\u001B[43m(\u001B[49m\u001B[38;5;28;43mself\u001B[39;49m\u001B[43m,\u001B[49m\u001B[43m \u001B[49m\u001B[38;5;241;43m*\u001B[39;49m\u001B[43margs\u001B[49m\u001B[43m,\u001B[49m\u001B[43m \u001B[49m\u001B[38;5;241;43m*\u001B[39;49m\u001B[38;5;241;43m*\u001B[39;49m\u001B[43mkwargs\u001B[49m\u001B[43m)\u001B[49m\n\u001B[0;32m     82\u001B[0m     flags \u001B[38;5;241m=\u001B[39m \u001B[38;5;28mself\u001B[39m\u001B[38;5;241m.\u001B[39m_ndarray\u001B[38;5;241m.\u001B[39mflags\n\u001B[0;32m     83\u001B[0m     flat \u001B[38;5;241m=\u001B[39m \u001B[38;5;28mself\u001B[39m\u001B[38;5;241m.\u001B[39mravel(\u001B[38;5;124m\"\u001B[39m\u001B[38;5;124mK\u001B[39m\u001B[38;5;124m\"\u001B[39m)\n",
      "File \u001B[1;32m~\\AppData\\Local\\Programs\\Python\\Python312\\Lib\\site-packages\\pandas\\core\\arrays\\datetimelike.py:723\u001B[0m, in \u001B[0;36mDatetimeLikeArrayMixin.map\u001B[1;34m(self, mapper, na_action)\u001B[0m\n\u001B[0;32m    719\u001B[0m \u001B[38;5;129m@ravel_compat\u001B[39m\n\u001B[0;32m    720\u001B[0m \u001B[38;5;28;01mdef\u001B[39;00m \u001B[38;5;21mmap\u001B[39m(\u001B[38;5;28mself\u001B[39m, mapper, na_action\u001B[38;5;241m=\u001B[39m\u001B[38;5;28;01mNone\u001B[39;00m):\n\u001B[0;32m    721\u001B[0m     \u001B[38;5;28;01mfrom\u001B[39;00m \u001B[38;5;21;01mpandas\u001B[39;00m \u001B[38;5;28;01mimport\u001B[39;00m Index\n\u001B[1;32m--> 723\u001B[0m     result \u001B[38;5;241m=\u001B[39m \u001B[43mmap_array\u001B[49m\u001B[43m(\u001B[49m\u001B[38;5;28;43mself\u001B[39;49m\u001B[43m,\u001B[49m\u001B[43m \u001B[49m\u001B[43mmapper\u001B[49m\u001B[43m,\u001B[49m\u001B[43m \u001B[49m\u001B[43mna_action\u001B[49m\u001B[38;5;241;43m=\u001B[39;49m\u001B[43mna_action\u001B[49m\u001B[43m)\u001B[49m\n\u001B[0;32m    724\u001B[0m     result \u001B[38;5;241m=\u001B[39m Index(result)\n\u001B[0;32m    726\u001B[0m     \u001B[38;5;28;01mif\u001B[39;00m \u001B[38;5;28misinstance\u001B[39m(result, ABCMultiIndex):\n",
      "File \u001B[1;32m~\\AppData\\Local\\Programs\\Python\\Python312\\Lib\\site-packages\\pandas\\core\\algorithms.py:1814\u001B[0m, in \u001B[0;36mmap_array\u001B[1;34m(arr, mapper, na_action, convert)\u001B[0m\n\u001B[0;32m   1812\u001B[0m values \u001B[38;5;241m=\u001B[39m arr\u001B[38;5;241m.\u001B[39mastype(\u001B[38;5;28mobject\u001B[39m, copy\u001B[38;5;241m=\u001B[39m\u001B[38;5;28;01mFalse\u001B[39;00m)\n\u001B[0;32m   1813\u001B[0m \u001B[38;5;28;01mif\u001B[39;00m na_action \u001B[38;5;129;01mis\u001B[39;00m \u001B[38;5;28;01mNone\u001B[39;00m:\n\u001B[1;32m-> 1814\u001B[0m     \u001B[38;5;28;01mreturn\u001B[39;00m \u001B[43mlib\u001B[49m\u001B[38;5;241;43m.\u001B[39;49m\u001B[43mmap_infer\u001B[49m\u001B[43m(\u001B[49m\u001B[43mvalues\u001B[49m\u001B[43m,\u001B[49m\u001B[43m \u001B[49m\u001B[43mmapper\u001B[49m\u001B[43m,\u001B[49m\u001B[43m \u001B[49m\u001B[43mconvert\u001B[49m\u001B[38;5;241;43m=\u001B[39;49m\u001B[43mconvert\u001B[49m\u001B[43m)\u001B[49m\n\u001B[0;32m   1815\u001B[0m \u001B[38;5;28;01melse\u001B[39;00m:\n\u001B[0;32m   1816\u001B[0m     \u001B[38;5;28;01mreturn\u001B[39;00m lib\u001B[38;5;241m.\u001B[39mmap_infer_mask(\n\u001B[0;32m   1817\u001B[0m         values, mapper, mask\u001B[38;5;241m=\u001B[39misna(values)\u001B[38;5;241m.\u001B[39mview(np\u001B[38;5;241m.\u001B[39muint8), convert\u001B[38;5;241m=\u001B[39mconvert\n\u001B[0;32m   1818\u001B[0m     )\n",
      "File \u001B[1;32mlib.pyx:2926\u001B[0m, in \u001B[0;36mpandas._libs.lib.map_infer\u001B[1;34m()\u001B[0m\n",
      "Cell \u001B[1;32mIn[31], line 2\u001B[0m, in \u001B[0;36m<lambda>\u001B[1;34m(x)\u001B[0m\n\u001B[0;32m      1\u001B[0m \u001B[38;5;66;03m# Mudar tipo de dado da coluna ms_played para time\u001B[39;00m\n\u001B[1;32m----> 2\u001B[0m df_main_clean[\u001B[38;5;124m'\u001B[39m\u001B[38;5;124mms_played\u001B[39m\u001B[38;5;124m'\u001B[39m] \u001B[38;5;241m=\u001B[39m df_main_clean[\u001B[38;5;124m'\u001B[39m\u001B[38;5;124mms_played\u001B[39m\u001B[38;5;124m'\u001B[39m]\u001B[38;5;241m.\u001B[39mapply(\u001B[38;5;28;01mlambda\u001B[39;00m x: \u001B[43mtimedelta\u001B[49m\u001B[43m(\u001B[49m\u001B[43mmilliseconds\u001B[49m\u001B[38;5;241;43m=\u001B[39;49m\u001B[43mx\u001B[49m\u001B[43m)\u001B[49m)\n\u001B[0;32m      4\u001B[0m df_main_clean\n",
      "\u001B[1;31mTypeError\u001B[0m: unsupported type for timedelta milliseconds component: Timedelta"
     ]
    }
   ],
   "source": [
    "# Mudar tipo de dado da coluna ms_played para time\n",
    "df_main_clean['ms_played'] = df_main_clean['ms_played'].apply(lambda x: timedelta(milliseconds=x))\n"
   ],
   "metadata": {
    "collapsed": false,
    "ExecuteTime": {
     "end_time": "2024-01-03T23:05:36.973316100Z",
     "start_time": "2024-01-03T23:05:35.539148700Z"
    }
   },
   "id": "f2d6ef4e50ec8438",
   "execution_count": 31
  },
  {
   "cell_type": "markdown",
   "source": [
    "## Finalizando e exportando"
   ],
   "metadata": {
    "collapsed": false
   },
   "id": "55026c08d5b4a9dc"
  },
  {
   "cell_type": "code",
   "outputs": [
    {
     "name": "stdout",
     "output_type": "stream",
     "text": [
      "O primeiro streaming foi 2017-06-17 07:45:29+00:00 e o ultimo streaming foi 2023-10-26 23:57:45+00:00\n"
     ]
    }
   ],
   "source": [
    "# Saber a data de início e de fim do dataset\n",
    "start_date = df_main_clean['ts'].min()\n",
    "end_date = df_main_clean['ts'].max()\n",
    "\n",
    "print(f\"O primeiro streaming foi {start_date} e o ultimo streaming foi {end_date}\")"
   ],
   "metadata": {
    "collapsed": false,
    "ExecuteTime": {
     "end_time": "2024-01-03T23:09:23.668358900Z",
     "start_time": "2024-01-03T23:09:23.611873400Z"
    }
   },
   "id": "f8d5cfe1c2211d70",
   "execution_count": 33
  },
  {
   "cell_type": "code",
   "outputs": [],
   "source": [
    "df_main_clean.to_csv('full_streaming_2017to2023.csv')"
   ],
   "metadata": {
    "collapsed": false,
    "ExecuteTime": {
     "end_time": "2024-01-03T23:11:19.111511100Z",
     "start_time": "2024-01-03T23:11:13.982603200Z"
    }
   },
   "id": "d25d8d2a0c3c46f9",
   "execution_count": 36
  }
 ],
 "metadata": {
  "kernelspec": {
   "display_name": "Python 3",
   "language": "python",
   "name": "python3"
  },
  "language_info": {
   "codemirror_mode": {
    "name": "ipython",
    "version": 2
   },
   "file_extension": ".py",
   "mimetype": "text/x-python",
   "name": "python",
   "nbconvert_exporter": "python",
   "pygments_lexer": "ipython2",
   "version": "2.7.6"
  }
 },
 "nbformat": 4,
 "nbformat_minor": 5
}
