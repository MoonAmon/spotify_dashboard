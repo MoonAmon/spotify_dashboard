{
 "cells": [
  {
   "cell_type": "markdown",
   "source": [
    "# Cleaning the dataset for use in the dashboard"
   ],
   "metadata": {
    "collapsed": false
   },
   "id": "ac7ba183797c4752"
  },
  {
   "cell_type": "code",
   "outputs": [],
   "source": [
    "import pandas as pd"
   ],
   "metadata": {
    "collapsed": false,
    "ExecuteTime": {
     "end_time": "2024-01-02T21:44:57.428654300Z",
     "start_time": "2024-01-02T21:44:55.903591500Z"
    }
   },
   "id": "8783e86e0a2afeb4",
   "execution_count": 1
  },
  {
   "cell_type": "code",
   "outputs": [],
   "source": [
    "dataset_full = pd.read_json('datasets/streaming_history/Streaming_History_Audio_2018-2019_1.json')\n",
    "\n",
    "dataset_partial = pd.read_json('datasets/StreamingHistory0.json')"
   ],
   "metadata": {
    "collapsed": false,
    "ExecuteTime": {
     "end_time": "2024-01-02T22:04:14.768653600Z",
     "start_time": "2024-01-02T22:04:14.154033300Z"
    }
   },
   "id": "9d006558505404aa",
   "execution_count": 5
  },
  {
   "cell_type": "code",
   "outputs": [
    {
     "name": "stdout",
     "output_type": "stream",
     "text": [
      "<class 'pandas.core.frame.DataFrame'>\n",
      "RangeIndex: 10000 entries, 0 to 9999\n",
      "Data columns (total 4 columns):\n",
      " #   Column      Non-Null Count  Dtype \n",
      "---  ------      --------------  ----- \n",
      " 0   endTime     10000 non-null  object\n",
      " 1   artistName  10000 non-null  object\n",
      " 2   trackName   10000 non-null  object\n",
      " 3   msPlayed    10000 non-null  int64 \n",
      "dtypes: int64(1), object(3)\n",
      "memory usage: 312.6+ KB\n"
     ]
    }
   ],
   "source": [
    "dataset_partial.info()"
   ],
   "metadata": {
    "collapsed": false,
    "ExecuteTime": {
     "end_time": "2024-01-02T22:04:16.740976600Z",
     "start_time": "2024-01-02T22:04:16.662205300Z"
    }
   },
   "id": "354fa7cdb6516195",
   "execution_count": 6
  },
  {
   "cell_type": "code",
   "outputs": [
    {
     "name": "stdout",
     "output_type": "stream",
     "text": [
      "<class 'pandas.core.frame.DataFrame'>\n",
      "RangeIndex: 15769 entries, 0 to 15768\n",
      "Data columns (total 21 columns):\n",
      " #   Column                             Non-Null Count  Dtype  \n",
      "---  ------                             --------------  -----  \n",
      " 0   ts                                 15769 non-null  object \n",
      " 1   username                           15769 non-null  object \n",
      " 2   platform                           15769 non-null  object \n",
      " 3   ms_played                          15769 non-null  int64  \n",
      " 4   conn_country                       15769 non-null  object \n",
      " 5   ip_addr_decrypted                  15769 non-null  object \n",
      " 6   user_agent_decrypted               15769 non-null  object \n",
      " 7   master_metadata_track_name         15752 non-null  object \n",
      " 8   master_metadata_album_artist_name  15752 non-null  object \n",
      " 9   master_metadata_album_album_name   15752 non-null  object \n",
      " 10  spotify_track_uri                  15752 non-null  object \n",
      " 11  episode_name                       6 non-null      object \n",
      " 12  episode_show_name                  6 non-null      object \n",
      " 13  spotify_episode_uri                6 non-null      object \n",
      " 14  reason_start                       15769 non-null  object \n",
      " 15  reason_end                         15769 non-null  object \n",
      " 16  shuffle                            15769 non-null  bool   \n",
      " 17  skipped                            517 non-null    float64\n",
      " 18  offline                            15769 non-null  bool   \n",
      " 19  offline_timestamp                  15769 non-null  int64  \n",
      " 20  incognito_mode                     15769 non-null  bool   \n",
      "dtypes: bool(3), float64(1), int64(2), object(15)\n",
      "memory usage: 2.2+ MB\n"
     ]
    }
   ],
   "source": [
    "dataset_full.info()\n",
    "\n",
    "selected_columns = ['ts', 'platform','ms_played','master_metadata_track_name','master_metadata_album_artist_name','master_metadata_album_album_name','spotify_track_uri','rgeeason_start','reason_end','shuffle','skipped']"
   ],
   "metadata": {
    "collapsed": false,
    "ExecuteTime": {
     "end_time": "2024-01-02T22:53:44.910051400Z",
     "start_time": "2024-01-02T22:53:44.855287300Z"
    }
   },
   "id": "779462ee161a3725",
   "execution_count": 10
  },
  {
   "cell_type": "markdown",
   "source": [
    "## Getting the relevant columns"
   ],
   "metadata": {
    "collapsed": false
   },
   "id": "1d9fb8107a984d0c"
  },
  {
   "cell_type": "code",
   "outputs": [
    {
     "data": {
      "text/plain": "                         ts                              platform  ms_played  \\\n0      2018-10-01T21:50:01Z  Android OS 6.0 API 23 (LGE, LG-K430)        753   \n1      2018-10-01T21:50:01Z  Android OS 6.0 API 23 (LGE, LG-K430)     324453   \n2      2018-10-01T21:50:01Z  Android OS 6.0 API 23 (LGE, LG-K430)       2569   \n3      2018-10-01T21:50:01Z  Android OS 6.0 API 23 (LGE, LG-K430)          0   \n4      2018-10-01T21:50:01Z  Android OS 6.0 API 23 (LGE, LG-K430)      12088   \n...                     ...                                   ...        ...   \n15764  2019-02-19T14:07:12Z          Windows 10 (10.0.17134; x64)     311866   \n15765  2019-02-19T14:09:50Z          Windows 10 (10.0.17134; x64)     107720   \n15766  2019-02-19T14:09:50Z          Windows 10 (10.0.17134; x64)     311866   \n15767  2019-02-19T14:09:50Z          Windows 10 (10.0.17134; x64)          0   \n15768  2019-02-19T14:29:43Z          Windows 10 (10.0.17134; x64)     207640   \n\n      master_metadata_track_name master_metadata_album_artist_name  \\\n0                           遥か彼方          ASIAN KUNG-FU GENERATION   \n1         HUNTING FOR YOUR DREAM                         GALNERYUS   \n2                          青春狂騒曲                       Sambomaster   \n3                          GO!!!                              FLOW   \n4                      Re:member                              FLOW   \n...                          ...                               ...   \n15764                   Stronger                        Kanye West   \n15765                   Stronger                        Kanye West   \n15766                   Stronger                        Kanye West   \n15767                      Crazy                    Gnarls Barkley   \n15768                   Stronger                        Kanye West   \n\n       master_metadata_album_album_name                     spotify_track_uri  \\\n0                 Destructive Amplifier  spotify:track:3bo6XgGWgo7VAHsN12LnOX   \n1                    ANGEL OF SALVATION  spotify:track:0jXK4Xy4LAEKFgRiTr3M7w   \n2            Sambomaster Kyuukyoku Best  spotify:track:3mPkQST4ybEL6xx0q7ujaZ   \n3                Flow Anime Best Kiwami  spotify:track:7a7Xou8pZEaVKDvdsBgFbl   \n4      FLOW the Best: Single Collection  spotify:track:1Ucmx7qaayeZL8Qfsq9vzD   \n...                                 ...                                   ...   \n15764                        Graduation  spotify:track:4y6c5vMzKKM3KsMbHtjKx5   \n15765                        Graduation  spotify:track:4y6c5vMzKKM3KsMbHtjKx5   \n15766                        Graduation  spotify:track:4y6c5vMzKKM3KsMbHtjKx5   \n15767                     St. Elsewhere  spotify:track:1vxw6aYJls2oq3gW0DujAo   \n15768                        Graduation  spotify:track:4y6c5vMzKKM3KsMbHtjKx5   \n\n      reason_start reason_end  shuffle  skipped  \n0           fwdbtn     fwdbtn    False      NaN  \n1          backbtn  trackdone    False      NaN  \n2           fwdbtn     fwdbtn    False      NaN  \n3           fwdbtn     fwdbtn    False      NaN  \n4        trackdone     fwdbtn    False      NaN  \n...            ...        ...      ...      ...  \n15764      appload  trackdone    False      NaN  \n15765     clickrow     logout    False      NaN  \n15766      appload  trackdone    False      NaN  \n15767    trackdone    backbtn    False      NaN  \n15768      backbtn     fwdbtn    False      NaN  \n\n[15769 rows x 11 columns]",
      "text/html": "<div>\n<style scoped>\n    .dataframe tbody tr th:only-of-type {\n        vertical-align: middle;\n    }\n\n    .dataframe tbody tr th {\n        vertical-align: top;\n    }\n\n    .dataframe thead th {\n        text-align: right;\n    }\n</style>\n<table border=\"1\" class=\"dataframe\">\n  <thead>\n    <tr style=\"text-align: right;\">\n      <th></th>\n      <th>ts</th>\n      <th>platform</th>\n      <th>ms_played</th>\n      <th>master_metadata_track_name</th>\n      <th>master_metadata_album_artist_name</th>\n      <th>master_metadata_album_album_name</th>\n      <th>spotify_track_uri</th>\n      <th>reason_start</th>\n      <th>reason_end</th>\n      <th>shuffle</th>\n      <th>skipped</th>\n    </tr>\n  </thead>\n  <tbody>\n    <tr>\n      <th>0</th>\n      <td>2018-10-01T21:50:01Z</td>\n      <td>Android OS 6.0 API 23 (LGE, LG-K430)</td>\n      <td>753</td>\n      <td>遥か彼方</td>\n      <td>ASIAN KUNG-FU GENERATION</td>\n      <td>Destructive Amplifier</td>\n      <td>spotify:track:3bo6XgGWgo7VAHsN12LnOX</td>\n      <td>fwdbtn</td>\n      <td>fwdbtn</td>\n      <td>False</td>\n      <td>NaN</td>\n    </tr>\n    <tr>\n      <th>1</th>\n      <td>2018-10-01T21:50:01Z</td>\n      <td>Android OS 6.0 API 23 (LGE, LG-K430)</td>\n      <td>324453</td>\n      <td>HUNTING FOR YOUR DREAM</td>\n      <td>GALNERYUS</td>\n      <td>ANGEL OF SALVATION</td>\n      <td>spotify:track:0jXK4Xy4LAEKFgRiTr3M7w</td>\n      <td>backbtn</td>\n      <td>trackdone</td>\n      <td>False</td>\n      <td>NaN</td>\n    </tr>\n    <tr>\n      <th>2</th>\n      <td>2018-10-01T21:50:01Z</td>\n      <td>Android OS 6.0 API 23 (LGE, LG-K430)</td>\n      <td>2569</td>\n      <td>青春狂騒曲</td>\n      <td>Sambomaster</td>\n      <td>Sambomaster Kyuukyoku Best</td>\n      <td>spotify:track:3mPkQST4ybEL6xx0q7ujaZ</td>\n      <td>fwdbtn</td>\n      <td>fwdbtn</td>\n      <td>False</td>\n      <td>NaN</td>\n    </tr>\n    <tr>\n      <th>3</th>\n      <td>2018-10-01T21:50:01Z</td>\n      <td>Android OS 6.0 API 23 (LGE, LG-K430)</td>\n      <td>0</td>\n      <td>GO!!!</td>\n      <td>FLOW</td>\n      <td>Flow Anime Best Kiwami</td>\n      <td>spotify:track:7a7Xou8pZEaVKDvdsBgFbl</td>\n      <td>fwdbtn</td>\n      <td>fwdbtn</td>\n      <td>False</td>\n      <td>NaN</td>\n    </tr>\n    <tr>\n      <th>4</th>\n      <td>2018-10-01T21:50:01Z</td>\n      <td>Android OS 6.0 API 23 (LGE, LG-K430)</td>\n      <td>12088</td>\n      <td>Re:member</td>\n      <td>FLOW</td>\n      <td>FLOW the Best: Single Collection</td>\n      <td>spotify:track:1Ucmx7qaayeZL8Qfsq9vzD</td>\n      <td>trackdone</td>\n      <td>fwdbtn</td>\n      <td>False</td>\n      <td>NaN</td>\n    </tr>\n    <tr>\n      <th>...</th>\n      <td>...</td>\n      <td>...</td>\n      <td>...</td>\n      <td>...</td>\n      <td>...</td>\n      <td>...</td>\n      <td>...</td>\n      <td>...</td>\n      <td>...</td>\n      <td>...</td>\n      <td>...</td>\n    </tr>\n    <tr>\n      <th>15764</th>\n      <td>2019-02-19T14:07:12Z</td>\n      <td>Windows 10 (10.0.17134; x64)</td>\n      <td>311866</td>\n      <td>Stronger</td>\n      <td>Kanye West</td>\n      <td>Graduation</td>\n      <td>spotify:track:4y6c5vMzKKM3KsMbHtjKx5</td>\n      <td>appload</td>\n      <td>trackdone</td>\n      <td>False</td>\n      <td>NaN</td>\n    </tr>\n    <tr>\n      <th>15765</th>\n      <td>2019-02-19T14:09:50Z</td>\n      <td>Windows 10 (10.0.17134; x64)</td>\n      <td>107720</td>\n      <td>Stronger</td>\n      <td>Kanye West</td>\n      <td>Graduation</td>\n      <td>spotify:track:4y6c5vMzKKM3KsMbHtjKx5</td>\n      <td>clickrow</td>\n      <td>logout</td>\n      <td>False</td>\n      <td>NaN</td>\n    </tr>\n    <tr>\n      <th>15766</th>\n      <td>2019-02-19T14:09:50Z</td>\n      <td>Windows 10 (10.0.17134; x64)</td>\n      <td>311866</td>\n      <td>Stronger</td>\n      <td>Kanye West</td>\n      <td>Graduation</td>\n      <td>spotify:track:4y6c5vMzKKM3KsMbHtjKx5</td>\n      <td>appload</td>\n      <td>trackdone</td>\n      <td>False</td>\n      <td>NaN</td>\n    </tr>\n    <tr>\n      <th>15767</th>\n      <td>2019-02-19T14:09:50Z</td>\n      <td>Windows 10 (10.0.17134; x64)</td>\n      <td>0</td>\n      <td>Crazy</td>\n      <td>Gnarls Barkley</td>\n      <td>St. Elsewhere</td>\n      <td>spotify:track:1vxw6aYJls2oq3gW0DujAo</td>\n      <td>trackdone</td>\n      <td>backbtn</td>\n      <td>False</td>\n      <td>NaN</td>\n    </tr>\n    <tr>\n      <th>15768</th>\n      <td>2019-02-19T14:29:43Z</td>\n      <td>Windows 10 (10.0.17134; x64)</td>\n      <td>207640</td>\n      <td>Stronger</td>\n      <td>Kanye West</td>\n      <td>Graduation</td>\n      <td>spotify:track:4y6c5vMzKKM3KsMbHtjKx5</td>\n      <td>backbtn</td>\n      <td>fwdbtn</td>\n      <td>False</td>\n      <td>NaN</td>\n    </tr>\n  </tbody>\n</table>\n<p>15769 rows × 11 columns</p>\n</div>"
     },
     "execution_count": 11,
     "metadata": {},
     "output_type": "execute_result"
    }
   ],
   "source": [
    "dataset_clean = dataset_full[selected_columns] \n",
    "\n",
    "dataset_clean"
   ],
   "metadata": {
    "collapsed": false,
    "ExecuteTime": {
     "end_time": "2024-01-02T22:53:46.984083800Z",
     "start_time": "2024-01-02T22:53:46.822307900Z"
    }
   },
   "id": "30721340aa5439cd",
   "execution_count": 11
  },
  {
   "cell_type": "code",
   "outputs": [],
   "source": [],
   "metadata": {
    "collapsed": false
   },
   "id": "5b6d75d188b474f5"
  }
 ],
 "metadata": {
  "kernelspec": {
   "display_name": "Python 3",
   "language": "python",
   "name": "python3"
  },
  "language_info": {
   "codemirror_mode": {
    "name": "ipython",
    "version": 2
   },
   "file_extension": ".py",
   "mimetype": "text/x-python",
   "name": "python",
   "nbconvert_exporter": "python",
   "pygments_lexer": "ipython2",
   "version": "2.7.6"
  }
 },
 "nbformat": 4,
 "nbformat_minor": 5
}
